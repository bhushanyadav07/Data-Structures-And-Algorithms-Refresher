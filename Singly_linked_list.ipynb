{
  "nbformat": 4,
  "nbformat_minor": 0,
  "metadata": {
    "colab": {
      "name": "Singly_linked_list.ipynb",
      "provenance": [],
      "collapsed_sections": [],
      "authorship_tag": "ABX9TyMo4rsi2XLh8QNbhoLVbzbX",
      "include_colab_link": true
    },
    "kernelspec": {
      "name": "python3",
      "display_name": "Python 3"
    }
  },
  "cells": [
    {
      "cell_type": "markdown",
      "metadata": {
        "id": "view-in-github",
        "colab_type": "text"
      },
      "source": [
        "<a href=\"https://colab.research.google.com/github/bhushanyadav07/Data-Structures-And-Algorithms-Refresher/blob/master/Singly_linked_list.ipynb\" target=\"_parent\"><img src=\"https://colab.research.google.com/assets/colab-badge.svg\" alt=\"Open In Colab\"/></a>"
      ]
    },
    {
      "cell_type": "code",
      "metadata": {
        "id": "kYnKR_id-N7P",
        "colab_type": "code",
        "colab": {}
      },
      "source": [
        "class Node:\n",
        "  def __init__(self, data):\n",
        "    self.data = data #We define self.data equal to data that is passed into the constructor of the object of class Node \n",
        "    self.next = None\n",
        "\n",
        "class linkedlist:\n",
        "  def __init__(self):\n",
        "    self.head = None"
      ],
      "execution_count": 0,
      "outputs": []
    },
    {
      "cell_type": "markdown",
      "metadata": {
        "id": "NdWW4AoS_FLt",
        "colab_type": "text"
      },
      "source": [
        ">We create a class called Node. In the constructor of this class, we give the argument of self and data on line 2. Every node is going to consist of data and next. We define self.data equal to data that is passed into the constructor of the object of class Node (line 3). We set self.next equal to None on line 4. This is something that we’ll set again as we make use of the node, but for now, we just set it to None. That’s pretty much all we need for the Node class right now.\n",
        "\n",
        ">On line 6, we define a LinkedList class, and in the constructor, we again pass self. On line 8, we define the head pointer, which will point to the first node in the linked list. Initially, we just set it equal to None."
      ]
    }
  ]
}